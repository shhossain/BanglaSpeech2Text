{
  "cells": [
    {
      "attachments": {},
      "cell_type": "markdown",
      "metadata": {
        "id": "Bua9A1lx9--w"
      },
      "source": [
        "# Test BanglaSpeech2Text in Colab"
      ]
    },
    {
      "attachments": {},
      "cell_type": "markdown",
      "metadata": {
        "id": "5_ll7FpF-MgK"
      },
      "source": [
        "## Installation"
      ]
    },
    {
      "cell_type": "code",
      "execution_count": null,
      "metadata": {
        "colab": {
          "base_uri": "https://localhost:8080/"
        },
        "id": "2ynzcepJ-J9N",
        "outputId": "3f27a1b7-71aa-4b9c-e6eb-e2d2459ab594"
      },
      "outputs": [],
      "source": [
        "%pip install banglaspeech2text --upgrade -q"
      ]
    },
    {
      "attachments": {},
      "cell_type": "markdown",
      "metadata": {
        "id": "vEg0ro8R-XJB"
      },
      "source": [
        "## Usage"
      ]
    },
    {
      "attachments": {},
      "cell_type": "markdown",
      "metadata": {
        "id": "yzDyqs67-eBq"
      },
      "source": [
        "### Use with file\n",
        "Upload a test file in colab."
      ]
    },
    {
      "cell_type": "code",
      "execution_count": null,
      "metadata": {
        "colab": {
          "base_uri": "https://localhost:8080/"
        },
        "id": "rRAyF3tD99YL",
        "outputId": "6fb4b817-2b42-4986-f611-8b20b600eac3"
      },
      "outputs": [],
      "source": [
        "from banglaspeech2text import Speech2Text\n",
        "\n",
        "# Let's see what models are available\n",
        "available_models = Speech2Text.list_models()\n",
        "\n",
        "stt = Speech2Text(\"base\")\n",
        "\n",
        "# Now let's transcribe a file\n",
        "transcription = stt.transcribe(\"test.wav\")\n",
        "print(transcription)"
      ]
    },
    {
      "attachments": {},
      "cell_type": "markdown",
      "metadata": {
        "id": "plrc8wLsA8Dl"
      },
      "source": [
        "### Use GPU"
      ]
    },
    {
      "cell_type": "code",
      "execution_count": null,
      "metadata": {
        "id": "cVp1p7C0APbG"
      },
      "outputs": [],
      "source": [
        "from banglaspeech2text import Speech2Text\n",
        "\n",
        "\n",
        "# If you have GPU, you can use it by setting use_gpu=True\n",
        "stt = Speech2Text(\"base\", cache_path=\"cache\", use_gpu=True)\n",
        "\n",
        "# Now let's transcribe a file\n",
        "print(stt.transcribe(\"test.wav\"))"
      ]
    },
    {
      "attachments": {},
      "cell_type": "markdown",
      "metadata": {
        "id": "_3N_4FHrEtQ_"
      },
      "source": [
        "### Check with gradio"
      ]
    },
    {
      "cell_type": "code",
      "execution_count": null,
      "metadata": {},
      "outputs": [],
      "source": [
        "%pip install gradio"
      ]
    },
    {
      "cell_type": "code",
      "execution_count": null,
      "metadata": {
        "id": "2_44Iu7CErqN"
      },
      "outputs": [],
      "source": [
        "from banglaspeech2text import Speech2Text\n",
        "import gradio as gr\n",
        "\n",
        "# Load a model\n",
        "stt = Speech2Text(\"base\", cache_path=\"cache\", use_gpu=True)\n",
        "\n",
        "# You can also open the url and check it in mobile\n",
        "gr.Interface(\n",
        "    fn=stt.transcribe, \n",
        "    inputs=gr.Audio(source=\"microphone\", type=\"filepath\"), \n",
        "    outputs=\"text\").launch(share=True)"
      ]
    }
  ],
  "metadata": {
    "accelerator": "GPU",
    "colab": {
      "provenance": []
    },
    "gpuClass": "standard",
    "kernelspec": {
      "display_name": "Python 3",
      "name": "python3"
    },
    "language_info": {
      "name": "python"
    }
  },
  "nbformat": 4,
  "nbformat_minor": 0
}
